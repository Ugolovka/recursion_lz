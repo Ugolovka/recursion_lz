{
 "cells": [
  {
   "cell_type": "code",
   "execution_count": 2,
   "metadata": {},
   "outputs": [
    {
     "name": "stdout",
     "output_type": "stream",
     "text": [
      "Треугольник Паскаля: \n",
      "1\t\n",
      "1\t1\t\n",
      "1\t2\t1\t\n",
      "1\t3\t3\t1\t\n",
      "1\t4\t6\t4\t1\t\n",
      "1\t5\t10\t10\t5\t1\t\n"
     ]
    }
   ],
   "source": [
    "x = int(input(\"Номер уровня-\" ))\n",
    "# Вызов рекурсии\n",
    "def combination(n, k):\n",
    "    if k == 0 or k == n: # условие\n",
    "        return 1\n",
    "    return combination(n - 1, k - 1) + combination(n - 1, k) #вернуть комбо\n",
    "\n",
    "def pascals_triangle(rows): #функция \n",
    "    for row in range( rows):\n",
    "        answer = \"\"\n",
    "        for column in range( row + 1):\n",
    "            answer = answer + str(combination(row, column)) + \"\\t\"\n",
    "        print(answer)\n",
    "print(\"Треугольник Паскаля: \")\n",
    "pascals_triangle(x) # Вызов"
   ]
  }
 ],
 "metadata": {
  "kernelspec": {
   "display_name": "Python 3",
   "language": "python",
   "name": "python3"
  },
  "language_info": {
   "codemirror_mode": {
    "name": "ipython",
    "version": 3
   },
   "file_extension": ".py",
   "mimetype": "text/x-python",
   "name": "python",
   "nbconvert_exporter": "python",
   "pygments_lexer": "ipython3",
   "version": "3.12.3"
  }
 },
 "nbformat": 4,
 "nbformat_minor": 2
}
