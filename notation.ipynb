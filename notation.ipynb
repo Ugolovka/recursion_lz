{
 "cells": [
  {
   "cell_type": "code",
   "execution_count": 6,
   "metadata": {},
   "outputs": [
    {
     "name": "stdout",
     "output_type": "stream",
     "text": [
      "Результат:  111001010001000111\n"
     ]
    }
   ],
   "source": [
    "base = int(input(\"Введите основание: \")) # Основание\n",
    "number = int(input(\"Введите  число: \")) # Число\n",
    "\n",
    "def convert_to_base(number, base):\n",
    "    if number < base:\n",
    "        return \"0123456789ABCDEF\"[number]  # Возвращаем символ для числа < base\n",
    "    else:\n",
    "        return convert_to_base(number // base, base) + \"0123456789ABCDEF\"[number % base]\n",
    "\n",
    "print(\"Результат: \", convert_to_base(number, base)) # Вызов"
   ]
  }
 ],
 "metadata": {
  "kernelspec": {
   "display_name": "Python 3",
   "language": "python",
   "name": "python3"
  },
  "language_info": {
   "codemirror_mode": {
    "name": "ipython",
    "version": 3
   },
   "file_extension": ".py",
   "mimetype": "text/x-python",
   "name": "python",
   "nbconvert_exporter": "python",
   "pygments_lexer": "ipython3",
   "version": "3.12.3"
  }
 },
 "nbformat": 4,
 "nbformat_minor": 2
}
