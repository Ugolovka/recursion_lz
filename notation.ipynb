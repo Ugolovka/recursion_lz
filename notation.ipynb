{
 "cells": [
  {
   "cell_type": "code",
   "execution_count": 7,
   "metadata": {},
   "outputs": [
    {
     "name": "stdout",
     "output_type": "stream",
     "text": [
      "100000\n"
     ]
    }
   ],
   "source": [
    "x = int(input(\"Введите основание: \")) #основание\n",
    "number = int(input(\"Введите  число: \")) #\n",
    "def getbinary(number):\n",
    "\n",
    "\t#Базовый вариант\n",
    "\tif number == 0:\n",
    "\t\treturn 0\n",
    "\t\n",
    "\t# Вызов рекурсии и сохранение результата\n",
    "\tsmallans = getbinary(number // x)\n",
    "\t\n",
    "\treturn number % x + 10 * smallans\n",
    "#Ограничитель\n",
    "decimal_number = 1048576\n",
    "print(getbinary(decimal_number)) # Вызов\n"
   ]
  }
 ],
 "metadata": {
  "kernelspec": {
   "display_name": "Python 3",
   "language": "python",
   "name": "python3"
  },
  "language_info": {
   "codemirror_mode": {
    "name": "ipython",
    "version": 3
   },
   "file_extension": ".py",
   "mimetype": "text/x-python",
   "name": "python",
   "nbconvert_exporter": "python",
   "pygments_lexer": "ipython3",
   "version": "3.12.3"
  }
 },
 "nbformat": 4,
 "nbformat_minor": 2
}
