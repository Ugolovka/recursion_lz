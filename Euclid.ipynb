{
 "cells": [
  {
   "cell_type": "code",
   "execution_count": 1,
   "metadata": {},
   "outputs": [
    {
     "name": "stdout",
     "output_type": "stream",
     "text": [
      "GCD of two number is: \n",
      "25\n"
     ]
    }
   ],
   "source": [
    "def gcd(x, y): \n",
    "    if(y == 0): \n",
    "        return x  # вернуть x\n",
    "    else: \n",
    "        return gcd(y, x % y) \n",
    "x =int(input(\"Введите первое число: \")) # первое число  \n",
    "y =int(input(\"Введите второе число: \")) # второе число  \n",
    "num = gcd(x, y) # вызов функции gcd, чтобы найти результат\n",
    "print(\"НОД из двух чисел равен: \") \n",
    "print(num) # Вызов num \n"
   ]
  }
 ],
 "metadata": {
  "kernelspec": {
   "display_name": "Python 3",
   "language": "python",
   "name": "python3"
  },
  "language_info": {
   "codemirror_mode": {
    "name": "ipython",
    "version": 3
   },
   "file_extension": ".py",
   "mimetype": "text/x-python",
   "name": "python",
   "nbconvert_exporter": "python",
   "pygments_lexer": "ipython3",
   "version": "3.12.3"
  }
 },
 "nbformat": 4,
 "nbformat_minor": 2
}
